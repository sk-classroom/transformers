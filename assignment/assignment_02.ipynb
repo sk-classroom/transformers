{
 "cells": [
  {
   "cell_type": "markdown",
   "metadata": {},
   "source": [
    "# Assignment: Prompt Tuning\n",
    "\n",
    "## 🎲 Random Number Challenge! 🎲\n",
    "\n",
    "Can you trick an LLM into being a random number generator? Let's find out!\n",
    "\n",
    "Your mission:\n",
    "- Create a clever prompt that makes an LLM generate at least 100 normally-distributed random numbers\n",
    "- Numbers should be comma-separated (like: 0.5,-1.2,0.8,...)\n",
    "- Your numbers need to pass a statistical test (KS-test with p-value > 0.20)\n",
    "- No cheating! The LLM can't use tools like Code Interpreter or calculators\n",
    "\n",
    "**Tips for success:**\n",
    "- Ask for just the numbers - no brackets, periods, or other characters\n",
    "- You might want to ask the LLM to think about how normal distributions work before generating the numbers\n",
    "\n",
    "\n",
    "## How to prepare and submit the results\n",
    "\n",
    "1. Go to [OpenRouter](https://openrouter.ai/google/gemma-3-27b-it:free)\n",
    "2. Create a new chat\n",
    "3. Prompt the LLM. You may interact with the LLM as many times as you want. We will evaluate the last message from the LLM, which should be comma-separated numbers.\n",
    "5. Download the transcript (json file), and upload the file as \"chat.json\" in `./assignment` folder.\n",
    "6. Git add and commit the json file (chat.json) and push the changes to the remote repository.\n",
    "\n",
    "Please see the step-by-step instructions here: https://docs.google.com/presentation/d/1QrXbl9LmYVXoJUMQQDyjzGNU3IpYAYehmDu4tlBW0JA/edit?usp=sharing\n",
    "\n",
    "The following code can be used to dry-run the test. Place the response from the LLM in the `text` variable."
   ]
  },
  {
   "cell_type": "code",
   "execution_count": 4,
   "metadata": {},
   "outputs": [
    {
     "data": {
      "text/plain": [
       "'Parse failed. Please check if your input follows the specified format.'"
      ]
     },
     "execution_count": 4,
     "metadata": {},
     "output_type": "execute_result"
    }
   ],
   "source": [
    "import pandas as pd\n",
    "import scipy.stats as stats\n",
    "import numpy as np\n",
    "\n",
    "text = \"\"\"\n",
    "<place your response here>\n",
    "\"\"\"\n",
    "\n",
    "try:\n",
    "    numbers = np.array([float(num.strip()) for num in text.value.split(\",\")])\n",
    "    if len(numbers) >= 100:\n",
    "        # KS test\n",
    "        pval = stats.kstest(numbers, stats.norm(loc=0.0, scale=1.0).cdf)[1]\n",
    "        test_result = \"The numbers are normal distributed (p-value = {:.2f})\".format(pval) if pval > 0.20 else \"The numbers are not normal distributed (p-value = {:.2f})\".format(pval)\n",
    "        message = \"Success!\" if pval > 0.20 else \"Failed\"\n",
    "        message+= \"\\n\\n\" + test_result\n",
    "    else:\n",
    "        message = \"The number of samples is too small. Need at least 100 samples.\"\n",
    "except:\n",
    "    message = \"Parse failed. Please check if your input follows the specified format.\"\n",
    "\n",
    "message"
   ]
  }
 ],
 "metadata": {
  "kernelspec": {
   "display_name": "applsoftcomp",
   "language": "python",
   "name": "python3"
  },
  "language_info": {
   "codemirror_mode": {
    "name": "ipython",
    "version": 3
   },
   "file_extension": ".py",
   "mimetype": "text/x-python",
   "name": "python",
   "nbconvert_exporter": "python",
   "pygments_lexer": "ipython3",
   "version": "3.10.13"
  }
 },
 "nbformat": 4,
 "nbformat_minor": 2
}
