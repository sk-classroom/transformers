{
 "cells": [
  {
   "cell_type": "markdown",
   "id": "1410950d",
   "metadata": {},
   "source": [
    "# Assignment\n",
    "\n",
    "In this assignment, we will create a token embedding for polyseme resolution. We will use the dataset [CoarseWSD-20](https://github.com/danlou/bert-disambiguation/tree/master/data/CoarseWSD-20).\n",
    "\n",
    "Complete the following tasks and upload your notebook to your GitHub repository.\n",
    "\n",
    "1. Fill in the black functions, marked by, \"\\#TODO\", in the notebook\n",
    "2. Update this notebook by using `git add`, `git commit`, and then `git push`.\n",
    "3. The notebook will be automatically graded, and your score will be shown on GitHub. See [how to check the results on GitHub](https://docs.github.com/en/education/manage-coursework-with-github-classroom/learn-with-github-classroom/view-autograding-results)\n",
    "\n",
    "Dont's:\n",
    "- Do not import any libraries except for the ones that are already imported. The grading script will not work if you import additional libraries.\n",
    "- Do not change the name of the functions. The grading script will not work if you change the name of the functions.\n",
    "- DO not remove the cells with tag \"gradable\". If you happen to remove the cells with tag \"gradable\", recreate the cell and add the tag \"gradable\" to the cell.\n",
    "\n",
    "Do's:\n",
    "- Make the code clearn and easy to understand. Consider using linters & formatters such as `black`. [Youtube: Linters and fixers: never worry about code formatting again (Vim + Ale + Flake8 & Black for Python) by Yong-Yeol Ahn](https://www.youtube.com/watch?v=4FKPySR6HLk)\n",
    "- You can add additional cells as you like. If you want to include the additional cells in the grading, you need to add the tag \"gradable\" to the cell. Otherwise, your additional cells will be stripped out when grading. "
   ]
  },
  {
   "cell_type": "code",
   "execution_count": 111,
   "id": "11da5289",
   "metadata": {},
   "outputs": [],
   "source": [
    "import pandas as pd\n",
    "import numpy as np\n",
    "import sys\n",
    "import matplotlib.pyplot as plt\n",
    "import seaborn as sns\n",
    "from sklearn.decomposition import PCA\n",
    "from sklearn.discriminant_analysis import LinearDiscriminantAnalysis\n",
    "import torch\n",
    "\n",
    "def load_data(focal_word, is_train, n_samples=100, random_state=42):\n",
    "    data_type = \"train\" if is_train else \"test\"\n",
    "    data_file = f\"https://raw.githubusercontent.com/danlou/bert-disambiguation/master/data/CoarseWSD-20/{focal_word}/{data_type}.data.txt\"\n",
    "    label_file = f\"https://raw.githubusercontent.com/danlou/bert-disambiguation/master/data/CoarseWSD-20/{focal_word}/{data_type}.gold.txt\"\n",
    "\n",
    "    data_table = pd.read_csv(\n",
    "        data_file,\n",
    "        sep=\"\\t\",\n",
    "        header=None,\n",
    "        dtype={\"word_pos\": int, \"sentence\": str},\n",
    "        names=[\"word_pos\", \"sentence\"],\n",
    "    )\n",
    "    label_table = pd.read_csv(\n",
    "        label_file,\n",
    "        sep=\"\\t\",\n",
    "        header=None,\n",
    "        dtype={\"label\": int},\n",
    "        names=[\"label\"],\n",
    "    )\n",
    "    combined_table = pd.concat([data_table, label_table], axis=1)\n",
    "    return combined_table.sample(n_samples, random_state=random_state)"
   ]
  },
  {
   "cell_type": "markdown",
   "id": "2e135985",
   "metadata": {},
   "source": [
    "# Polyseme resolution using BERT\n",
    "\n"
   ]
  },
  {
   "cell_type": "markdown",
   "id": "98a9f927",
   "metadata": {},
   "source": [
    "Let us consider a case study of polysemy resolution.\n",
    "Consider the following two sentences:\n",
    "- \"The bank in the city is closed\"\n",
    "- \"The bank in the river is closed\"\n",
    "\n",
    "The word \"bank\" has two meanings:\n",
    "- \"bank\" as in \"financial institution\"\n",
    "- \"bank\" as in \"side of a river\"\n",
    "\n",
    "To resolve the polysemy, we can use BERT to get the embeddings of the word \"bank\" in each sentence. Here, let's focus on another example: \"java\" as in \"programming language\" and \"java\" as in \"coffee brand\"."
   ]
  },
  {
   "cell_type": "code",
   "execution_count": 112,
   "id": "7e9ebb9e",
   "metadata": {},
   "outputs": [
    {
     "data": {
      "text/html": [
       "<div>\n",
       "<style scoped>\n",
       "    .dataframe tbody tr th:only-of-type {\n",
       "        vertical-align: middle;\n",
       "    }\n",
       "\n",
       "    .dataframe tbody tr th {\n",
       "        vertical-align: top;\n",
       "    }\n",
       "\n",
       "    .dataframe thead th {\n",
       "        text-align: right;\n",
       "    }\n",
       "</style>\n",
       "<table border=\"1\" class=\"dataframe\">\n",
       "  <thead>\n",
       "    <tr style=\"text-align: right;\">\n",
       "      <th></th>\n",
       "      <th>word_pos</th>\n",
       "      <th>sentence</th>\n",
       "      <th>label</th>\n",
       "    </tr>\n",
       "  </thead>\n",
       "  <tbody>\n",
       "    <tr>\n",
       "      <th>2258</th>\n",
       "      <td>4</td>\n",
       "      <td>j/xfs is written in java with the objective to...</td>\n",
       "      <td>1</td>\n",
       "    </tr>\n",
       "    <tr>\n",
       "      <th>2955</th>\n",
       "      <td>29</td>\n",
       "      <td>code generation and reverse engineering bouml ...</td>\n",
       "      <td>1</td>\n",
       "    </tr>\n",
       "    <tr>\n",
       "      <th>2775</th>\n",
       "      <td>4</td>\n",
       "      <td>it is found on java and fiji .</td>\n",
       "      <td>0</td>\n",
       "    </tr>\n",
       "    <tr>\n",
       "      <th>1056</th>\n",
       "      <td>9</td>\n",
       "      <td>the colonial authorities therefore resolved to...</td>\n",
       "      <td>0</td>\n",
       "    </tr>\n",
       "    <tr>\n",
       "      <th>2208</th>\n",
       "      <td>21</td>\n",
       "      <td>many ap courses were offered , in subjects suc...</td>\n",
       "      <td>1</td>\n",
       "    </tr>\n",
       "  </tbody>\n",
       "</table>\n",
       "</div>"
      ],
      "text/plain": [
       "      word_pos                                           sentence  label\n",
       "2258         4  j/xfs is written in java with the objective to...      1\n",
       "2955        29  code generation and reverse engineering bouml ...      1\n",
       "2775         4                     it is found on java and fiji .      0\n",
       "1056         9  the colonial authorities therefore resolved to...      0\n",
       "2208        21  many ap courses were offered , in subjects suc...      1"
      ]
     },
     "execution_count": 112,
     "metadata": {},
     "output_type": "execute_result"
    }
   ],
   "source": [
    "focal_word = \"java\"\n",
    "\n",
    "train_data = load_data(focal_word, is_train=True)\n",
    "train_data.head()"
   ]
  },
  {
   "cell_type": "markdown",
   "id": "ec3d2a0c",
   "metadata": {},
   "source": [
    "The data contains word_pos, label, and sentence. The word_pos indicates the token in question for polysemy resolution. The label indicates the meaning of the token in the sentence.\n",
    "\n",
    "Using BERT, we generate an embedding for each token in the sentence. Here is how we can do it:"
   ]
  },
  {
   "cell_type": "code",
   "execution_count": 113,
   "id": "79b7ebe2",
   "metadata": {},
   "outputs": [],
   "source": [
    "# Import transformers\n",
    "from transformers import AutoTokenizer, AutoModel\n",
    "\n",
    "# Load the tokenizer and model\n",
    "tokenizer = AutoTokenizer.from_pretrained(\n",
    "    \"bert-base-uncased\"\n",
    ")\n",
    "\n",
    "# Load the model\n",
    "model = AutoModel.from_pretrained(\n",
    "    \"bert-base-uncased\"\n",
    ")\n",
    "\n",
    "# Set the model to evaluation mode\n",
    "model = model.eval()"
   ]
  },
  {
   "cell_type": "code",
   "execution_count": 114,
   "id": "d38dbc64",
   "metadata": {},
   "outputs": [],
   "source": [
    "test_sentence = train_data[\"sentence\"].values[0]\n",
    "\n",
    "encoded_inputs = tokenizer(\n",
    "    test_sentence,\n",
    "    padding=True,\n",
    "    truncation=True,\n",
    "    return_tensors=\"pt\",\n",
    "    add_special_tokens=True\n",
    ")\n",
    "\n",
    "# Get the embeddings of the tokens\n",
    "outputs = model(**encoded_inputs, output_hidden_states=True)"
   ]
  },
  {
   "cell_type": "markdown",
   "id": "4fb02e2e",
   "metadata": {},
   "source": [
    "The `outputs` contains the embeddings of the tokens. The `outputs.hidden_states` contains the embeddings of the tokens in all layers."
   ]
  },
  {
   "cell_type": "code",
   "execution_count": 115,
   "id": "167eef4b",
   "metadata": {},
   "outputs": [
    {
     "name": "stdout",
     "output_type": "stream",
     "text": [
      "Number of layers: 13\n",
      "Shape of the embeddings: torch.Size([1, 45, 768])\n"
     ]
    }
   ],
   "source": [
    "print(\"Number of layers:\", len(outputs.hidden_states))\n",
    "print(\"Shape of the embeddings:\", outputs.hidden_states[0].shape)\n"
   ]
  },
  {
   "cell_type": "markdown",
   "id": "3abf50e1",
   "metadata": {},
   "source": [
    "where the first dimension is the batch size, the second dimension is the sequence length, and the third dimension is the embedding dimension. \n",
    "Now, let's extract the embedding of the token in question."
   ]
  },
  {
   "cell_type": "code",
   "execution_count": 116,
   "id": "9082740b",
   "metadata": {},
   "outputs": [
    {
     "name": "stdout",
     "output_type": "stream",
     "text": [
      "Shape of the token embedding: torch.Size([768])\n"
     ]
    }
   ],
   "source": [
    "word_pos = train_data[\"word_pos\"].values[0]\n",
    "token_embedding = outputs.hidden_states[0][0, word_pos]\n",
    "\n",
    "print(\"Shape of the token embedding:\", token_embedding.shape)"
   ]
  },
  {
   "cell_type": "markdown",
   "id": "657166a5",
   "metadata": {},
   "source": [
    "Conveniently, you can get the embedding in batch mode: "
   ]
  },
  {
   "cell_type": "code",
   "execution_count": 117,
   "id": "50a98ccd",
   "metadata": {},
   "outputs": [],
   "source": [
    "test_sentences = train_data[\"sentence\"].values.tolist()\n",
    "\n",
    "encoded_inputs = tokenizer(\n",
    "    test_sentences,\n",
    "    padding=True,\n",
    "    truncation=True,\n",
    "    return_tensors=\"pt\",\n",
    "    add_special_tokens=True\n",
    ")\n",
    "\n",
    "# Get the embeddings of the tokens\n",
    "outputs = model(**encoded_inputs, output_hidden_states=True)"
   ]
  },
  {
   "cell_type": "code",
   "execution_count": 118,
   "id": "8c437258",
   "metadata": {},
   "outputs": [
    {
     "name": "stdout",
     "output_type": "stream",
     "text": [
      "Shape of the embeddings: torch.Size([100, 175, 768])\n"
     ]
    }
   ],
   "source": [
    "print(\"Shape of the embeddings:\", outputs.hidden_states[0].shape)"
   ]
  },
  {
   "cell_type": "markdown",
   "id": "7d53af4a",
   "metadata": {},
   "source": [
    "Where the 100 is the batch size (e.g., number of sentences)."
   ]
  },
  {
   "cell_type": "markdown",
   "id": "470ece16",
   "metadata": {},
   "source": [
    "Now, we have the embedding of the token in question. Let's visualize the embedding using PCA. We will focus on the first layer.\n"
   ]
  },
  {
   "cell_type": "code",
   "execution_count": 119,
   "id": "8aa09730",
   "metadata": {
    "tags": [
     "gradable"
    ]
   },
   "outputs": [],
   "source": [
    "import torch\n",
    "\n",
    "# TODO\n",
    "def get_token_embedding(sentences, word_pos, model, tokenizer):\n",
    "    \"\"\"\n",
    "    Generate the embedding of the token in question.\n",
    "\n",
    "    Parameters:\n",
    "        sentences: The sentences to generate the embedding. Must be a list of strings.\n",
    "        word_pos: The position of the focal token in the sentence. Must be a numpy array or list of integers.\n",
    "\n",
    "    Returns:\n",
    "        The embedding of the token in question.\n",
    "    \"\"\"\n",
    "\n",
    "    encoded_inputs = tokenizer(\n",
    "        sentences,\n",
    "        padding=True,\n",
    "        truncation=True,\n",
    "        return_tensors=\"pt\",\n",
    "        add_special_tokens=True\n",
    "    )\n",
    "\n",
    "    outputs = model(**encoded_inputs, output_hidden_states=True)\n",
    "\n",
    "    emb = []\n",
    "    for i, (sentence, word_pos) in enumerate(tuple(zip(sentences, word_pos))):\n",
    "        token_embedding = outputs.hidden_states[0][i, word_pos]\n",
    "        emb.append(token_embedding.detach().numpy())\n",
    "    return np.array(emb)"
   ]
  },
  {
   "cell_type": "code",
   "execution_count": 120,
   "id": "4e1e7511",
   "metadata": {},
   "outputs": [],
   "source": [
    "emb = get_token_embedding(train_data[\"sentence\"].values.tolist(), train_data[\"word_pos\"].values, model, tokenizer)"
   ]
  },
  {
   "cell_type": "code",
   "execution_count": 121,
   "id": "4540d63d",
   "metadata": {},
   "outputs": [
    {
     "data": {
      "image/png": "[encoded data removed]",
      "text/plain": [
       "<Figure size 500x500 with 1 Axes>"
      ]
     },
     "metadata": {},
     "output_type": "display_data"
    }
   ],
   "source": [
    "import matplotlib.pyplot as plt\n",
    "import seaborn as sns\n",
    "\n",
    "pca = PCA(n_components=2)\n",
    "pca.fit(emb)\n",
    "emb_pca = pca.transform(emb)\n",
    "\n",
    "df = pd.DataFrame(emb_pca, columns=[\"pca_x\", \"pca_y\"])\n",
    "df[\"label\"] = train_data[\"label\"].values\n",
    "\n",
    "fig, ax = plt.subplots(figsize=(5, 5))\n",
    "sns.scatterplot(x=\"pca_x\", y=\"pca_y\", hue=\"label\", data=df, ax=ax)\n",
    "ax.set_title(\"PCA of the token embeddings\")\n",
    "ax.set_xlabel(\"PCA 1\")\n",
    "ax.set_ylabel(\"PCA 2\")\n",
    "sns.despine()"
   ]
  },
  {
   "cell_type": "code",
   "execution_count": 122,
   "id": "cae7a74b",
   "metadata": {},
   "outputs": [],
   "source": [
    "from sklearn.discriminant_analysis import LinearDiscriminantAnalysis\n",
    "\n",
    "def train_classifier(emb, labels):\n",
    "    \"\"\"\n",
    "    Train a classifier on the embeddings.\n",
    "    \"\"\"\n",
    "    clf = LinearDiscriminantAnalysis(n_components=1)\n",
    "    clf.fit(emb, labels)\n",
    "    return clf\n",
    "\n",
    "clf = train_classifier(emb, train_data[\"label\"].values)\n",
    "\n",
    "prediction = clf.predict(emb)"
   ]
  },
  {
   "cell_type": "markdown",
   "id": "931ea486",
   "metadata": {},
   "source": [
    "Let's evaluate the performance of the classifier using the classification accuracy. "
   ]
  },
  {
   "cell_type": "code",
   "execution_count": 123,
   "id": "7de18b74",
   "metadata": {},
   "outputs": [
    {
     "data": {
      "text/plain": [
       "0.98"
      ]
     },
     "execution_count": 123,
     "metadata": {},
     "output_type": "execute_result"
    }
   ],
   "source": [
    "def evaluate_classifier(clf, emb, labels):\n",
    "    \"\"\"\n",
    "    Evaluate the performance of the classifier.\n",
    "    \"\"\"\n",
    "    prediction = clf.predict(emb)\n",
    "    accuracy = np.mean(prediction == labels)\n",
    "    return accuracy\n",
    "accuracy = evaluate_classifier(clf, emb, train_data[\"label\"].values)\n",
    "accuracy"
   ]
  },
  {
   "cell_type": "markdown",
   "id": "836e7cca",
   "metadata": {},
   "source": [
    "Fof the test set, "
   ]
  },
  {
   "cell_type": "code",
   "execution_count": 124,
   "id": "dba50689",
   "metadata": {},
   "outputs": [
    {
     "data": {
      "text/plain": [
       "0.57"
      ]
     },
     "execution_count": 124,
     "metadata": {},
     "output_type": "execute_result"
    }
   ],
   "source": [
    "import torch\n",
    "\n",
    "train_data = load_data(focal_word, is_train=True)\n",
    "test_data = load_data(focal_word, is_train=False)\n",
    "\n",
    "# Get the embeddings of the test set\n",
    "emb_train = get_token_embedding(train_data[\"sentence\"].values.tolist(), train_data[\"word_pos\"].values, model, tokenizer)\n",
    "\n",
    "# Get the embeddings of the test set\n",
    "emb_test = get_token_embedding(test_data[\"sentence\"].values.tolist(), test_data[\"word_pos\"].values, model, tokenizer)\n",
    "\n",
    "# Train the classifier\n",
    "clf = train_classifier(emb_train, train_data[\"label\"].values)\n",
    "\n",
    "# Get the predictions\n",
    "prediction = clf.predict(emb_test)\n",
    "\n",
    "# Evaluate the performance\n",
    "accuracy = evaluate_classifier(clf, emb_test, test_data[\"label\"].values)\n",
    "accuracy\n",
    "\n"
   ]
  },
  {
   "cell_type": "markdown",
   "id": "4783f8bf",
   "metadata": {},
   "source": [
    "# Task: \n",
    "\n",
    "Modify the `get_token_embedding` function to improve the performance of the classifier. You may use any layer of the BERT model. Your accuracy must be greater than 0.91."
   ]
  }
 ],
 "metadata": {
  "kernelspec": {
   "display_name": "applsoftcomp",
   "language": "python",
   "name": "python3"
  },
  "language_info": {
   "codemirror_mode": {
    "name": "ipython",
    "version": 3
   },
   "file_extension": ".py",
   "mimetype": "text/x-python",
   "name": "python",
   "nbconvert_exporter": "python",
   "pygments_lexer": "ipython3",
   "version": "3.10.13"
  }
 },
 "nbformat": 4,
 "nbformat_minor": 5
}
